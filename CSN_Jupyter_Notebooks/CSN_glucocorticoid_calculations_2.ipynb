{
 "cells": [
  {
   "cell_type": "markdown",
   "id": "929aa236-1516-44b1-b042-2a7c87441fba",
   "metadata": {},
   "source": [
    "# Chemical Space Network Calculations\n",
    "\n",
    "**V.F. Scalfani, V.D. Patel, and A.M. Fernandez** \\\n",
    "v. October 18, 2022\n",
    "\n",
    "*w/ glucocorticoid_receptor_2034_2.csv dataset*"
   ]
  },
  {
   "cell_type": "markdown",
   "id": "196b5cc2-edd8-4e2b-b1e9-5ace6a79668b",
   "metadata": {},
   "source": [
    "## 1. Import RDKit, Networkx, and other libraries"
   ]
  },
  {
   "cell_type": "code",
   "execution_count": 1,
   "id": "e5205ce9-98f9-4ceb-91a5-550c667e7d68",
   "metadata": {},
   "outputs": [],
   "source": [
    "# RDKit stuff\n",
    "from rdkit import Chem\n",
    "from rdkit import rdBase\n",
    "from rdkit.Chem import Draw\n",
    "from rdkit.Chem.Draw import rdMolDraw2D\n",
    "from rdkit.Chem import rdDepictor\n",
    "rdDepictor.SetPreferCoordGen(True)\n",
    "from rdkit.Chem import rdMolDescriptors\n",
    "from rdkit.Chem import rdFMCS\n",
    "from rdkit import DataStructs\n",
    "from rdkit.Chem import rdmolops\n",
    "\n",
    "# numpy\n",
    "import numpy as np\n",
    "\n",
    "# pandas\n",
    "import pandas as pd\n",
    "\n",
    "# networkx\n",
    "import networkx as nx\n",
    "\n",
    "# matplotlib\n",
    "import matplotlib as mpl\n",
    "import matplotlib.pyplot as plt"
   ]
  },
  {
   "cell_type": "code",
   "execution_count": 2,
   "id": "e3ad87a5-e66f-4c9d-bc4b-a0c2e23eca39",
   "metadata": {},
   "outputs": [
    {
     "name": "stdout",
     "output_type": "stream",
     "text": [
      "RDKit version:  2022.03.5\n",
      "Numpy version: 1.23.3\n",
      "Pandas version: 1.4.4\n",
      "Networkx version 2.8.6\n",
      "MatplotLib version: 3.5.3\n"
     ]
    }
   ],
   "source": [
    "# Print versions of libraries used\n",
    "print('RDKit version: ',rdBase.rdkitVersion)\n",
    "print('Numpy version:', np.__version__)\n",
    "print('Pandas version:', pd.__version__)\n",
    "print('Networkx version',nx.__version__)\n",
    "print('MatplotLib version:', mpl.__version__)"
   ]
  },
  {
   "cell_type": "markdown",
   "id": "73f130a2-d387-4a0d-9bc3-551ca9e42817",
   "metadata": {},
   "source": [
    "## 2. Load ChEMBL Dataset"
   ]
  },
  {
   "cell_type": "code",
   "execution_count": 3,
   "id": "5419fa09-efad-4377-b9cd-8306ae1123b5",
   "metadata": {},
   "outputs": [
    {
     "data": {
      "text/html": [
       "<div>\n",
       "<style scoped>\n",
       "    .dataframe tbody tr th:only-of-type {\n",
       "        vertical-align: middle;\n",
       "    }\n",
       "\n",
       "    .dataframe tbody tr th {\n",
       "        vertical-align: top;\n",
       "    }\n",
       "\n",
       "    .dataframe thead th {\n",
       "        text-align: right;\n",
       "    }\n",
       "</style>\n",
       "<table border=\"1\" class=\"dataframe\">\n",
       "  <thead>\n",
       "    <tr style=\"text-align: right;\">\n",
       "      <th></th>\n",
       "      <th>Molecule ChEMBL ID</th>\n",
       "      <th>Molecule Name</th>\n",
       "      <th>Molecule Max Phase</th>\n",
       "      <th>Molecular Weight</th>\n",
       "      <th>#RO5 Violations</th>\n",
       "      <th>AlogP</th>\n",
       "      <th>Compound Key</th>\n",
       "      <th>Smiles</th>\n",
       "      <th>Standard Type</th>\n",
       "      <th>Standard Relation</th>\n",
       "      <th>...</th>\n",
       "      <th>Target Name</th>\n",
       "      <th>Target Organism</th>\n",
       "      <th>Target Type</th>\n",
       "      <th>Document ChEMBL ID</th>\n",
       "      <th>Source ID</th>\n",
       "      <th>Source Description</th>\n",
       "      <th>Document Journal</th>\n",
       "      <th>Document Year</th>\n",
       "      <th>Cell ChEMBL ID</th>\n",
       "      <th>Properties</th>\n",
       "    </tr>\n",
       "  </thead>\n",
       "  <tbody>\n",
       "    <tr>\n",
       "      <th>0</th>\n",
       "      <td>CHEMBL318409</td>\n",
       "      <td>NaN</td>\n",
       "      <td>0</td>\n",
       "      <td>387.91</td>\n",
       "      <td>1</td>\n",
       "      <td>7.10</td>\n",
       "      <td>1</td>\n",
       "      <td>CC1=CC(C)(C)Nc2ccc3c(c21)C(c1ccccc1)Oc1ccc(Cl)...</td>\n",
       "      <td>Ki</td>\n",
       "      <td>'='</td>\n",
       "      <td>...</td>\n",
       "      <td>Glucocorticoid receptor</td>\n",
       "      <td>Homo sapiens</td>\n",
       "      <td>SINGLE PROTEIN</td>\n",
       "      <td>CHEMBL1134574</td>\n",
       "      <td>1</td>\n",
       "      <td>Scientific Literature</td>\n",
       "      <td>J. Med. Chem.</td>\n",
       "      <td>2001</td>\n",
       "      <td>None</td>\n",
       "      <td>NaN</td>\n",
       "    </tr>\n",
       "    <tr>\n",
       "      <th>1</th>\n",
       "      <td>CHEMBL427265</td>\n",
       "      <td>NaN</td>\n",
       "      <td>0</td>\n",
       "      <td>386.46</td>\n",
       "      <td>0</td>\n",
       "      <td>2.91</td>\n",
       "      <td>22</td>\n",
       "      <td>N#Cc1cccc(Cc2c(N3CCC(c4ccccc4)CC3)[nH]c(=O)[nH...</td>\n",
       "      <td>Ki</td>\n",
       "      <td>'='</td>\n",
       "      <td>...</td>\n",
       "      <td>Glucocorticoid receptor</td>\n",
       "      <td>Homo sapiens</td>\n",
       "      <td>SINGLE PROTEIN</td>\n",
       "      <td>CHEMBL1146208</td>\n",
       "      <td>1</td>\n",
       "      <td>Scientific Literature</td>\n",
       "      <td>Bioorg. Med. Chem. Lett.</td>\n",
       "      <td>2007</td>\n",
       "      <td>None</td>\n",
       "      <td>NaN</td>\n",
       "    </tr>\n",
       "    <tr>\n",
       "      <th>2</th>\n",
       "      <td>CHEMBL231500</td>\n",
       "      <td>NaN</td>\n",
       "      <td>0</td>\n",
       "      <td>418.50</td>\n",
       "      <td>0</td>\n",
       "      <td>3.00</td>\n",
       "      <td>31</td>\n",
       "      <td>CC(=O)Nc1ccc(C2CCN(c3[nH]c(=O)[nH]c(=O)c3Cc3cc...</td>\n",
       "      <td>Ki</td>\n",
       "      <td>'='</td>\n",
       "      <td>...</td>\n",
       "      <td>Glucocorticoid receptor</td>\n",
       "      <td>Homo sapiens</td>\n",
       "      <td>SINGLE PROTEIN</td>\n",
       "      <td>CHEMBL1146208</td>\n",
       "      <td>1</td>\n",
       "      <td>Scientific Literature</td>\n",
       "      <td>Bioorg. Med. Chem. Lett.</td>\n",
       "      <td>2007</td>\n",
       "      <td>None</td>\n",
       "      <td>NaN</td>\n",
       "    </tr>\n",
       "    <tr>\n",
       "      <th>3</th>\n",
       "      <td>CHEMBL230461</td>\n",
       "      <td>NaN</td>\n",
       "      <td>0</td>\n",
       "      <td>405.50</td>\n",
       "      <td>0</td>\n",
       "      <td>2.24</td>\n",
       "      <td>9</td>\n",
       "      <td>Cn1c(=O)[nH]c(N2CCC(O)(Cc3ccccc3)CC2)c(Cc2cccc...</td>\n",
       "      <td>Ki</td>\n",
       "      <td>'='</td>\n",
       "      <td>...</td>\n",
       "      <td>Glucocorticoid receptor</td>\n",
       "      <td>Homo sapiens</td>\n",
       "      <td>SINGLE PROTEIN</td>\n",
       "      <td>CHEMBL1146208</td>\n",
       "      <td>1</td>\n",
       "      <td>Scientific Literature</td>\n",
       "      <td>Bioorg. Med. Chem. Lett.</td>\n",
       "      <td>2007</td>\n",
       "      <td>None</td>\n",
       "      <td>NaN</td>\n",
       "    </tr>\n",
       "    <tr>\n",
       "      <th>4</th>\n",
       "      <td>CHEMBL410037</td>\n",
       "      <td>NaN</td>\n",
       "      <td>0</td>\n",
       "      <td>510.61</td>\n",
       "      <td>1</td>\n",
       "      <td>4.27</td>\n",
       "      <td>73</td>\n",
       "      <td>O=S(=O)(c1ccc(F)cc1)N1CCC2=Cc3c(cnn3-c3ccc(F)c...</td>\n",
       "      <td>Ki</td>\n",
       "      <td>'='</td>\n",
       "      <td>...</td>\n",
       "      <td>Glucocorticoid receptor</td>\n",
       "      <td>Homo sapiens</td>\n",
       "      <td>SINGLE PROTEIN</td>\n",
       "      <td>CHEMBL1142367</td>\n",
       "      <td>1</td>\n",
       "      <td>Scientific Literature</td>\n",
       "      <td>Bioorg. Med. Chem. Lett.</td>\n",
       "      <td>2008</td>\n",
       "      <td>None</td>\n",
       "      <td>NaN</td>\n",
       "    </tr>\n",
       "    <tr>\n",
       "      <th>...</th>\n",
       "      <td>...</td>\n",
       "      <td>...</td>\n",
       "      <td>...</td>\n",
       "      <td>...</td>\n",
       "      <td>...</td>\n",
       "      <td>...</td>\n",
       "      <td>...</td>\n",
       "      <td>...</td>\n",
       "      <td>...</td>\n",
       "      <td>...</td>\n",
       "      <td>...</td>\n",
       "      <td>...</td>\n",
       "      <td>...</td>\n",
       "      <td>...</td>\n",
       "      <td>...</td>\n",
       "      <td>...</td>\n",
       "      <td>...</td>\n",
       "      <td>...</td>\n",
       "      <td>...</td>\n",
       "      <td>...</td>\n",
       "      <td>...</td>\n",
       "    </tr>\n",
       "    <tr>\n",
       "      <th>454</th>\n",
       "      <td>CHEMBL2426660</td>\n",
       "      <td>NaN</td>\n",
       "      <td>0</td>\n",
       "      <td>453.57</td>\n",
       "      <td>1</td>\n",
       "      <td>5.67</td>\n",
       "      <td>5b</td>\n",
       "      <td>CC(C)(C(=O)Nc1nncs1)C(c1ccccc1)c1ccc2c(cnn2-c2...</td>\n",
       "      <td>Ki</td>\n",
       "      <td>'='</td>\n",
       "      <td>...</td>\n",
       "      <td>Glucocorticoid receptor</td>\n",
       "      <td>Homo sapiens</td>\n",
       "      <td>SINGLE PROTEIN</td>\n",
       "      <td>CHEMBL2424628</td>\n",
       "      <td>1</td>\n",
       "      <td>Scientific Literature</td>\n",
       "      <td>Bioorg. Med. Chem. Lett.</td>\n",
       "      <td>2013</td>\n",
       "      <td>None</td>\n",
       "      <td>NaN</td>\n",
       "    </tr>\n",
       "    <tr>\n",
       "      <th>455</th>\n",
       "      <td>CHEMBL2426653</td>\n",
       "      <td>NaN</td>\n",
       "      <td>0</td>\n",
       "      <td>469.57</td>\n",
       "      <td>1</td>\n",
       "      <td>5.38</td>\n",
       "      <td>5l</td>\n",
       "      <td>CC(C)(C(=O)Nc1nncs1)C(c1ccccc1)c1ccc2c(cnn2-c2...</td>\n",
       "      <td>Ki</td>\n",
       "      <td>'='</td>\n",
       "      <td>...</td>\n",
       "      <td>Glucocorticoid receptor</td>\n",
       "      <td>Homo sapiens</td>\n",
       "      <td>SINGLE PROTEIN</td>\n",
       "      <td>CHEMBL2424628</td>\n",
       "      <td>1</td>\n",
       "      <td>Scientific Literature</td>\n",
       "      <td>Bioorg. Med. Chem. Lett.</td>\n",
       "      <td>2013</td>\n",
       "      <td>None</td>\n",
       "      <td>NaN</td>\n",
       "    </tr>\n",
       "    <tr>\n",
       "      <th>456</th>\n",
       "      <td>CHEMBL2426663</td>\n",
       "      <td>NaN</td>\n",
       "      <td>0</td>\n",
       "      <td>471.56</td>\n",
       "      <td>1</td>\n",
       "      <td>5.81</td>\n",
       "      <td>(3R)-5c</td>\n",
       "      <td>CC(C)(C(=O)Nc1nncs1)[C@H](c1ccccc1)c1ccc2c(cnn...</td>\n",
       "      <td>Ki</td>\n",
       "      <td>'='</td>\n",
       "      <td>...</td>\n",
       "      <td>Glucocorticoid receptor</td>\n",
       "      <td>Homo sapiens</td>\n",
       "      <td>SINGLE PROTEIN</td>\n",
       "      <td>CHEMBL2424628</td>\n",
       "      <td>1</td>\n",
       "      <td>Scientific Literature</td>\n",
       "      <td>Bioorg. Med. Chem. Lett.</td>\n",
       "      <td>2013</td>\n",
       "      <td>None</td>\n",
       "      <td>NaN</td>\n",
       "    </tr>\n",
       "    <tr>\n",
       "      <th>457</th>\n",
       "      <td>CHEMBL3735496</td>\n",
       "      <td>NaN</td>\n",
       "      <td>0</td>\n",
       "      <td>528.61</td>\n",
       "      <td>1</td>\n",
       "      <td>4.62</td>\n",
       "      <td>27</td>\n",
       "      <td>Cc1ccc(S(=O)(=O)N2CCC3=Cc4c(cnn4-c4ccc(F)cc4)C...</td>\n",
       "      <td>Ki</td>\n",
       "      <td>'='</td>\n",
       "      <td>...</td>\n",
       "      <td>Glucocorticoid receptor</td>\n",
       "      <td>Homo sapiens</td>\n",
       "      <td>SINGLE PROTEIN</td>\n",
       "      <td>CHEMBL3734698</td>\n",
       "      <td>1</td>\n",
       "      <td>Scientific Literature</td>\n",
       "      <td>Bioorg. Med. Chem. Lett.</td>\n",
       "      <td>2015</td>\n",
       "      <td>None</td>\n",
       "      <td>NaN</td>\n",
       "    </tr>\n",
       "    <tr>\n",
       "      <th>458</th>\n",
       "      <td>CHEMBL3734789</td>\n",
       "      <td>NaN</td>\n",
       "      <td>0</td>\n",
       "      <td>583.57</td>\n",
       "      <td>1</td>\n",
       "      <td>4.72</td>\n",
       "      <td>20</td>\n",
       "      <td>O=C(c1cnccn1)[C@]12Cc3cnn(-c4ccc(F)cc4)c3C=C1C...</td>\n",
       "      <td>Ki</td>\n",
       "      <td>'='</td>\n",
       "      <td>...</td>\n",
       "      <td>Glucocorticoid receptor</td>\n",
       "      <td>Homo sapiens</td>\n",
       "      <td>SINGLE PROTEIN</td>\n",
       "      <td>CHEMBL3734698</td>\n",
       "      <td>1</td>\n",
       "      <td>Scientific Literature</td>\n",
       "      <td>Bioorg. Med. Chem. Lett.</td>\n",
       "      <td>2015</td>\n",
       "      <td>None</td>\n",
       "      <td>NaN</td>\n",
       "    </tr>\n",
       "  </tbody>\n",
       "</table>\n",
       "<p>459 rows × 45 columns</p>\n",
       "</div>"
      ],
      "text/plain": [
       "    Molecule ChEMBL ID Molecule Name  Molecule Max Phase  Molecular Weight  \\\n",
       "0         CHEMBL318409           NaN                   0            387.91   \n",
       "1         CHEMBL427265           NaN                   0            386.46   \n",
       "2         CHEMBL231500           NaN                   0            418.50   \n",
       "3         CHEMBL230461           NaN                   0            405.50   \n",
       "4         CHEMBL410037           NaN                   0            510.61   \n",
       "..                 ...           ...                 ...               ...   \n",
       "454      CHEMBL2426660           NaN                   0            453.57   \n",
       "455      CHEMBL2426653           NaN                   0            469.57   \n",
       "456      CHEMBL2426663           NaN                   0            471.56   \n",
       "457      CHEMBL3735496           NaN                   0            528.61   \n",
       "458      CHEMBL3734789           NaN                   0            583.57   \n",
       "\n",
       "     #RO5 Violations  AlogP Compound Key  \\\n",
       "0                  1   7.10            1   \n",
       "1                  0   2.91           22   \n",
       "2                  0   3.00           31   \n",
       "3                  0   2.24            9   \n",
       "4                  1   4.27           73   \n",
       "..               ...    ...          ...   \n",
       "454                1   5.67           5b   \n",
       "455                1   5.38           5l   \n",
       "456                1   5.81      (3R)-5c   \n",
       "457                1   4.62           27   \n",
       "458                1   4.72           20   \n",
       "\n",
       "                                                Smiles Standard Type  \\\n",
       "0    CC1=CC(C)(C)Nc2ccc3c(c21)C(c1ccccc1)Oc1ccc(Cl)...            Ki   \n",
       "1    N#Cc1cccc(Cc2c(N3CCC(c4ccccc4)CC3)[nH]c(=O)[nH...            Ki   \n",
       "2    CC(=O)Nc1ccc(C2CCN(c3[nH]c(=O)[nH]c(=O)c3Cc3cc...            Ki   \n",
       "3    Cn1c(=O)[nH]c(N2CCC(O)(Cc3ccccc3)CC2)c(Cc2cccc...            Ki   \n",
       "4    O=S(=O)(c1ccc(F)cc1)N1CCC2=Cc3c(cnn3-c3ccc(F)c...            Ki   \n",
       "..                                                 ...           ...   \n",
       "454  CC(C)(C(=O)Nc1nncs1)C(c1ccccc1)c1ccc2c(cnn2-c2...            Ki   \n",
       "455  CC(C)(C(=O)Nc1nncs1)C(c1ccccc1)c1ccc2c(cnn2-c2...            Ki   \n",
       "456  CC(C)(C(=O)Nc1nncs1)[C@H](c1ccccc1)c1ccc2c(cnn...            Ki   \n",
       "457  Cc1ccc(S(=O)(=O)N2CCC3=Cc4c(cnn4-c4ccc(F)cc4)C...            Ki   \n",
       "458  O=C(c1cnccn1)[C@]12Cc3cnn(-c4ccc(F)cc4)c3C=C1C...            Ki   \n",
       "\n",
       "    Standard Relation  ...              Target Name Target Organism  \\\n",
       "0                 '='  ...  Glucocorticoid receptor    Homo sapiens   \n",
       "1                 '='  ...  Glucocorticoid receptor    Homo sapiens   \n",
       "2                 '='  ...  Glucocorticoid receptor    Homo sapiens   \n",
       "3                 '='  ...  Glucocorticoid receptor    Homo sapiens   \n",
       "4                 '='  ...  Glucocorticoid receptor    Homo sapiens   \n",
       "..                ...  ...                      ...             ...   \n",
       "454               '='  ...  Glucocorticoid receptor    Homo sapiens   \n",
       "455               '='  ...  Glucocorticoid receptor    Homo sapiens   \n",
       "456               '='  ...  Glucocorticoid receptor    Homo sapiens   \n",
       "457               '='  ...  Glucocorticoid receptor    Homo sapiens   \n",
       "458               '='  ...  Glucocorticoid receptor    Homo sapiens   \n",
       "\n",
       "        Target Type  Document ChEMBL ID Source ID     Source Description  \\\n",
       "0    SINGLE PROTEIN       CHEMBL1134574         1  Scientific Literature   \n",
       "1    SINGLE PROTEIN       CHEMBL1146208         1  Scientific Literature   \n",
       "2    SINGLE PROTEIN       CHEMBL1146208         1  Scientific Literature   \n",
       "3    SINGLE PROTEIN       CHEMBL1146208         1  Scientific Literature   \n",
       "4    SINGLE PROTEIN       CHEMBL1142367         1  Scientific Literature   \n",
       "..              ...                 ...       ...                    ...   \n",
       "454  SINGLE PROTEIN       CHEMBL2424628         1  Scientific Literature   \n",
       "455  SINGLE PROTEIN       CHEMBL2424628         1  Scientific Literature   \n",
       "456  SINGLE PROTEIN       CHEMBL2424628         1  Scientific Literature   \n",
       "457  SINGLE PROTEIN       CHEMBL3734698         1  Scientific Literature   \n",
       "458  SINGLE PROTEIN       CHEMBL3734698         1  Scientific Literature   \n",
       "\n",
       "             Document Journal  Document Year  Cell ChEMBL ID  Properties  \n",
       "0               J. Med. Chem.           2001            None         NaN  \n",
       "1    Bioorg. Med. Chem. Lett.           2007            None         NaN  \n",
       "2    Bioorg. Med. Chem. Lett.           2007            None         NaN  \n",
       "3    Bioorg. Med. Chem. Lett.           2007            None         NaN  \n",
       "4    Bioorg. Med. Chem. Lett.           2008            None         NaN  \n",
       "..                        ...            ...             ...         ...  \n",
       "454  Bioorg. Med. Chem. Lett.           2013            None         NaN  \n",
       "455  Bioorg. Med. Chem. Lett.           2013            None         NaN  \n",
       "456  Bioorg. Med. Chem. Lett.           2013            None         NaN  \n",
       "457  Bioorg. Med. Chem. Lett.           2015            None         NaN  \n",
       "458  Bioorg. Med. Chem. Lett.           2015            None         NaN  \n",
       "\n",
       "[459 rows x 45 columns]"
      ]
     },
     "execution_count": 3,
     "metadata": {},
     "output_type": "execute_result"
    }
   ],
   "source": [
    "# pd.options.display.max_rows = 30\n",
    "df = pd.read_csv('glucocorticoid_receptor_2034_2.csv', sep =';')\n",
    "df"
   ]
  },
  {
   "cell_type": "markdown",
   "id": "203adcfe-0dfa-4231-a16b-2f270a04f8af",
   "metadata": {},
   "source": [
    "# 3. Data Preparation and Checks\n",
    "\n",
    "Note that we are using the chemical structures as-is (i.e., using ChEMBL's standardization workflow). See supporting manuscript for more details. "
   ]
  },
  {
   "cell_type": "code",
   "execution_count": 4,
   "id": "4e86f4f9-a8fd-4bb7-b90e-f5ff2edb7bd5",
   "metadata": {},
   "outputs": [
    {
     "data": {
      "text/html": [
       "<div>\n",
       "<style scoped>\n",
       "    .dataframe tbody tr th:only-of-type {\n",
       "        vertical-align: middle;\n",
       "    }\n",
       "\n",
       "    .dataframe tbody tr th {\n",
       "        vertical-align: top;\n",
       "    }\n",
       "\n",
       "    .dataframe thead th {\n",
       "        text-align: right;\n",
       "    }\n",
       "</style>\n",
       "<table border=\"1\" class=\"dataframe\">\n",
       "  <thead>\n",
       "    <tr style=\"text-align: right;\">\n",
       "      <th></th>\n",
       "      <th>Molecule ChEMBL ID</th>\n",
       "      <th>Smiles</th>\n",
       "      <th>Standard Value</th>\n",
       "    </tr>\n",
       "  </thead>\n",
       "  <tbody>\n",
       "    <tr>\n",
       "      <th>0</th>\n",
       "      <td>CHEMBL318409</td>\n",
       "      <td>CC1=CC(C)(C)Nc2ccc3c(c21)C(c1ccccc1)Oc1ccc(Cl)...</td>\n",
       "      <td>9.30</td>\n",
       "    </tr>\n",
       "    <tr>\n",
       "      <th>1</th>\n",
       "      <td>CHEMBL427265</td>\n",
       "      <td>N#Cc1cccc(Cc2c(N3CCC(c4ccccc4)CC3)[nH]c(=O)[nH...</td>\n",
       "      <td>37.00</td>\n",
       "    </tr>\n",
       "    <tr>\n",
       "      <th>2</th>\n",
       "      <td>CHEMBL231500</td>\n",
       "      <td>CC(=O)Nc1ccc(C2CCN(c3[nH]c(=O)[nH]c(=O)c3Cc3cc...</td>\n",
       "      <td>46.00</td>\n",
       "    </tr>\n",
       "    <tr>\n",
       "      <th>3</th>\n",
       "      <td>CHEMBL230461</td>\n",
       "      <td>Cn1c(=O)[nH]c(N2CCC(O)(Cc3ccccc3)CC2)c(Cc2cccc...</td>\n",
       "      <td>360.00</td>\n",
       "    </tr>\n",
       "    <tr>\n",
       "      <th>4</th>\n",
       "      <td>CHEMBL410037</td>\n",
       "      <td>O=S(=O)(c1ccc(F)cc1)N1CCC2=Cc3c(cnn3-c3ccc(F)c...</td>\n",
       "      <td>1.60</td>\n",
       "    </tr>\n",
       "    <tr>\n",
       "      <th>...</th>\n",
       "      <td>...</td>\n",
       "      <td>...</td>\n",
       "      <td>...</td>\n",
       "    </tr>\n",
       "    <tr>\n",
       "      <th>454</th>\n",
       "      <td>CHEMBL2426660</td>\n",
       "      <td>CC(C)(C(=O)Nc1nncs1)C(c1ccccc1)c1ccc2c(cnn2-c2...</td>\n",
       "      <td>5.00</td>\n",
       "    </tr>\n",
       "    <tr>\n",
       "      <th>455</th>\n",
       "      <td>CHEMBL2426653</td>\n",
       "      <td>CC(C)(C(=O)Nc1nncs1)C(c1ccccc1)c1ccc2c(cnn2-c2...</td>\n",
       "      <td>7.20</td>\n",
       "    </tr>\n",
       "    <tr>\n",
       "      <th>456</th>\n",
       "      <td>CHEMBL2426663</td>\n",
       "      <td>CC(C)(C(=O)Nc1nncs1)[C@H](c1ccccc1)c1ccc2c(cnn...</td>\n",
       "      <td>6.70</td>\n",
       "    </tr>\n",
       "    <tr>\n",
       "      <th>457</th>\n",
       "      <td>CHEMBL3735496</td>\n",
       "      <td>Cc1ccc(S(=O)(=O)N2CCC3=Cc4c(cnn4-c4ccc(F)cc4)C...</td>\n",
       "      <td>0.22</td>\n",
       "    </tr>\n",
       "    <tr>\n",
       "      <th>458</th>\n",
       "      <td>CHEMBL3734789</td>\n",
       "      <td>O=C(c1cnccn1)[C@]12Cc3cnn(-c4ccc(F)cc4)c3C=C1C...</td>\n",
       "      <td>0.21</td>\n",
       "    </tr>\n",
       "  </tbody>\n",
       "</table>\n",
       "<p>454 rows × 3 columns</p>\n",
       "</div>"
      ],
      "text/plain": [
       "    Molecule ChEMBL ID                                             Smiles  \\\n",
       "0         CHEMBL318409  CC1=CC(C)(C)Nc2ccc3c(c21)C(c1ccccc1)Oc1ccc(Cl)...   \n",
       "1         CHEMBL427265  N#Cc1cccc(Cc2c(N3CCC(c4ccccc4)CC3)[nH]c(=O)[nH...   \n",
       "2         CHEMBL231500  CC(=O)Nc1ccc(C2CCN(c3[nH]c(=O)[nH]c(=O)c3Cc3cc...   \n",
       "3         CHEMBL230461  Cn1c(=O)[nH]c(N2CCC(O)(Cc3ccccc3)CC2)c(Cc2cccc...   \n",
       "4         CHEMBL410037  O=S(=O)(c1ccc(F)cc1)N1CCC2=Cc3c(cnn3-c3ccc(F)c...   \n",
       "..                 ...                                                ...   \n",
       "454      CHEMBL2426660  CC(C)(C(=O)Nc1nncs1)C(c1ccccc1)c1ccc2c(cnn2-c2...   \n",
       "455      CHEMBL2426653  CC(C)(C(=O)Nc1nncs1)C(c1ccccc1)c1ccc2c(cnn2-c2...   \n",
       "456      CHEMBL2426663  CC(C)(C(=O)Nc1nncs1)[C@H](c1ccccc1)c1ccc2c(cnn...   \n",
       "457      CHEMBL3735496  Cc1ccc(S(=O)(=O)N2CCC3=Cc4c(cnn4-c4ccc(F)cc4)C...   \n",
       "458      CHEMBL3734789  O=C(c1cnccn1)[C@]12Cc3cnn(-c4ccc(F)cc4)c3C=C1C...   \n",
       "\n",
       "     Standard Value  \n",
       "0              9.30  \n",
       "1             37.00  \n",
       "2             46.00  \n",
       "3            360.00  \n",
       "4              1.60  \n",
       "..              ...  \n",
       "454            5.00  \n",
       "455            7.20  \n",
       "456            6.70  \n",
       "457            0.22  \n",
       "458            0.21  \n",
       "\n",
       "[454 rows x 3 columns]"
      ]
     },
     "execution_count": 4,
     "metadata": {},
     "output_type": "execute_result"
    }
   ],
   "source": [
    "# Create a new dataframe with only Chembl ID, Smiles, and Standard Value (Ki, for this example)\n",
    "# We are ignoring the Standard relation here for Ki values (i.e., >, <, etc. are treated as =)\n",
    "\n",
    "df1 = df[['Molecule ChEMBL ID','Smiles','Standard Value']].copy()\n",
    "\n",
    "# drop any rows with NaN (missing Standard Values)\n",
    "df1.dropna(inplace=True)\n",
    "df1"
   ]
  },
  {
   "cell_type": "code",
   "execution_count": 5,
   "id": "63477d03-a005-47fd-b76b-bbea6734731d",
   "metadata": {},
   "outputs": [
    {
     "data": {
      "text/plain": [
       "454"
      ]
     },
     "execution_count": 5,
     "metadata": {},
     "output_type": "execute_result"
    }
   ],
   "source": [
    "# Check for presence of disconnected SMILES notation via string matching \n",
    "df2 = df1[~df1['Smiles'].str.contains(\"\\.\")]\n",
    "len(df2) # same as df1"
   ]
  },
  {
   "cell_type": "code",
   "execution_count": 6,
   "id": "1421d761-1794-4428-b6fc-07d9a65cf1d0",
   "metadata": {},
   "outputs": [],
   "source": [
    "# We should double check for disconnected fragments in the event that\n",
    "# the dot disconnect bond is used with ring-closures\n",
    "# see: http://www.dalkescientific.com/writings/diary/archive/2004/12/12/library_generation_with_smiles.html\n",
    "\n",
    "smis = df1['Smiles'].tolist()\n",
    "num_frags = []\n",
    "for smi in smis:\n",
    "    mol = Chem.MolFromSmiles(smi)\n",
    "    num_frags.append(len(Chem.GetMolFrags(mol))) # returns number of fragments"
   ]
  },
  {
   "cell_type": "code",
   "execution_count": 7,
   "id": "5a554e53-202e-4d5d-87dc-11d5150460b7",
   "metadata": {},
   "outputs": [
    {
     "data": {
      "text/plain": [
       "True"
      ]
     },
     "execution_count": 7,
     "metadata": {},
     "output_type": "execute_result"
    }
   ],
   "source": [
    "# now check that all molecules have only one fragment\n",
    "all(frag == 1 for frag in num_frags)"
   ]
  },
  {
   "cell_type": "code",
   "execution_count": 8,
   "id": "aa343ab1-6314-4f8b-ae1c-3eb3e5290133",
   "metadata": {},
   "outputs": [
    {
     "data": {
      "text/html": [
       "<div>\n",
       "<style scoped>\n",
       "    .dataframe tbody tr th:only-of-type {\n",
       "        vertical-align: middle;\n",
       "    }\n",
       "\n",
       "    .dataframe tbody tr th {\n",
       "        vertical-align: top;\n",
       "    }\n",
       "\n",
       "    .dataframe thead th {\n",
       "        text-align: right;\n",
       "    }\n",
       "</style>\n",
       "<table border=\"1\" class=\"dataframe\">\n",
       "  <thead>\n",
       "    <tr style=\"text-align: right;\">\n",
       "      <th></th>\n",
       "      <th>Molecule ChEMBL ID</th>\n",
       "      <th>Smiles</th>\n",
       "      <th>Ki</th>\n",
       "    </tr>\n",
       "  </thead>\n",
       "  <tbody>\n",
       "    <tr>\n",
       "      <th>0</th>\n",
       "      <td>CHEMBL103</td>\n",
       "      <td>CC(=O)[C@H]1CC[C@H]2[C@@H]3CCC4=CC(=O)CC[C@]4(...</td>\n",
       "      <td>30.500000</td>\n",
       "    </tr>\n",
       "    <tr>\n",
       "      <th>1</th>\n",
       "      <td>CHEMBL1089811</td>\n",
       "      <td>COc1ccc2c(c1)-c1ccc3c(c1[C@H](c1ccccc1)O2)C(C)...</td>\n",
       "      <td>18.000000</td>\n",
       "    </tr>\n",
       "    <tr>\n",
       "      <th>2</th>\n",
       "      <td>CHEMBL1089812</td>\n",
       "      <td>C#COc1ccc2c(c1OC)-c1ccc3c(c1[C@H](CC=C)O2)C(C)...</td>\n",
       "      <td>4.200000</td>\n",
       "    </tr>\n",
       "    <tr>\n",
       "      <th>3</th>\n",
       "      <td>CHEMBL1090477</td>\n",
       "      <td>CC#C[C@@]1(O)CC[C@@]2(Cc3ccccc3)c3ccc(C(=O)NCc...</td>\n",
       "      <td>2.000000</td>\n",
       "    </tr>\n",
       "    <tr>\n",
       "      <th>4</th>\n",
       "      <td>CHEMBL1090801</td>\n",
       "      <td>C=CC[C@@H]1Oc2ccc(OC#N)c(OC)c2-c2ccc3c(c21)C(C...</td>\n",
       "      <td>51.000000</td>\n",
       "    </tr>\n",
       "    <tr>\n",
       "      <th>...</th>\n",
       "      <td>...</td>\n",
       "      <td>...</td>\n",
       "      <td>...</td>\n",
       "    </tr>\n",
       "    <tr>\n",
       "      <th>399</th>\n",
       "      <td>CHEMBL8639</td>\n",
       "      <td>C=CCC1Oc2ccccc2-c2ccc3c(c21)C(C)=CC(C)(C)N3</td>\n",
       "      <td>889.000000</td>\n",
       "    </tr>\n",
       "    <tr>\n",
       "      <th>400</th>\n",
       "      <td>CHEMBL95644</td>\n",
       "      <td>COc1cccc2c1-c1ccc3c(c1C(c1cccc(C(F)(F)F)c1)O2)...</td>\n",
       "      <td>11.000000</td>\n",
       "    </tr>\n",
       "    <tr>\n",
       "      <th>401</th>\n",
       "      <td>CHEMBL97206</td>\n",
       "      <td>COc1cccc2c1-c1ccc3c(c1C(c1cccc(OCSC)c1)O2)C(C)...</td>\n",
       "      <td>4.000000</td>\n",
       "    </tr>\n",
       "    <tr>\n",
       "      <th>402</th>\n",
       "      <td>CHEMBL99046</td>\n",
       "      <td>COc1cccc2c1-c1ccc3c(c1C(c1ccccc1)O2)C(C)=CC(C)...</td>\n",
       "      <td>82.266667</td>\n",
       "    </tr>\n",
       "    <tr>\n",
       "      <th>403</th>\n",
       "      <td>CHEMBL99128</td>\n",
       "      <td>COc1ccc2c(c1)OC(c1ccccc1)c1c-2ccc2c1C(C)=CC(C)...</td>\n",
       "      <td>1800.000000</td>\n",
       "    </tr>\n",
       "  </tbody>\n",
       "</table>\n",
       "<p>404 rows × 3 columns</p>\n",
       "</div>"
      ],
      "text/plain": [
       "    Molecule ChEMBL ID                                             Smiles  \\\n",
       "0            CHEMBL103  CC(=O)[C@H]1CC[C@H]2[C@@H]3CCC4=CC(=O)CC[C@]4(...   \n",
       "1        CHEMBL1089811  COc1ccc2c(c1)-c1ccc3c(c1[C@H](c1ccccc1)O2)C(C)...   \n",
       "2        CHEMBL1089812  C#COc1ccc2c(c1OC)-c1ccc3c(c1[C@H](CC=C)O2)C(C)...   \n",
       "3        CHEMBL1090477  CC#C[C@@]1(O)CC[C@@]2(Cc3ccccc3)c3ccc(C(=O)NCc...   \n",
       "4        CHEMBL1090801  C=CC[C@@H]1Oc2ccc(OC#N)c(OC)c2-c2ccc3c(c21)C(C...   \n",
       "..                 ...                                                ...   \n",
       "399         CHEMBL8639        C=CCC1Oc2ccccc2-c2ccc3c(c21)C(C)=CC(C)(C)N3   \n",
       "400        CHEMBL95644  COc1cccc2c1-c1ccc3c(c1C(c1cccc(C(F)(F)F)c1)O2)...   \n",
       "401        CHEMBL97206  COc1cccc2c1-c1ccc3c(c1C(c1cccc(OCSC)c1)O2)C(C)...   \n",
       "402        CHEMBL99046  COc1cccc2c1-c1ccc3c(c1C(c1ccccc1)O2)C(C)=CC(C)...   \n",
       "403        CHEMBL99128  COc1ccc2c(c1)OC(c1ccccc1)c1c-2ccc2c1C(C)=CC(C)...   \n",
       "\n",
       "              Ki  \n",
       "0      30.500000  \n",
       "1      18.000000  \n",
       "2       4.200000  \n",
       "3       2.000000  \n",
       "4      51.000000  \n",
       "..           ...  \n",
       "399   889.000000  \n",
       "400    11.000000  \n",
       "401     4.000000  \n",
       "402    82.266667  \n",
       "403  1800.000000  \n",
       "\n",
       "[404 rows x 3 columns]"
      ]
     },
     "execution_count": 8,
     "metadata": {},
     "output_type": "execute_result"
    }
   ],
   "source": [
    "# Group by ChEMBLID/Smiles rows, and then take the mean of the standard Ki value to account for duplicates.\n",
    "# See: Zhang, B. et al. J Comput Aided Mol Des 2015, 29 (10), 937–950. \n",
    "# https://doi.org/10.1007/s10822-015-9872-1.\n",
    "df3 = df2.groupby(['Molecule ChEMBL ID', 'Smiles'])['Standard Value'].mean().reset_index()\n",
    "\n",
    "# rename the Standard Value Column to Ki\n",
    "df3.rename(columns={'Standard Value': 'Ki'}, inplace=True)\n",
    "df3"
   ]
  },
  {
   "cell_type": "code",
   "execution_count": 9,
   "id": "73945b49-287d-4cb9-a8d3-24d3ddc88d12",
   "metadata": {},
   "outputs": [
    {
     "name": "stdout",
     "output_type": "stream",
     "text": [
      "True\n"
     ]
    }
   ],
   "source": [
    "# Double check that all ChEMBL IDs are now unique\n",
    "chembl_ids = df3['Molecule ChEMBL ID'].tolist()\n",
    "\n",
    "# create a set, if the set length matches the list, there are no duplicates\n",
    "set_chembl_ids = set(chembl_ids)\n",
    "print(len(set_chembl_ids) == len(chembl_ids))"
   ]
  },
  {
   "cell_type": "code",
   "execution_count": 10,
   "id": "cd024930-94da-4942-bf3d-23ef74e85569",
   "metadata": {},
   "outputs": [
    {
     "data": {
      "text/plain": [
       "True"
      ]
     },
     "execution_count": 10,
     "metadata": {},
     "output_type": "execute_result"
    }
   ],
   "source": [
    "# Double check that all SMILES are unique (different) compounds\n",
    "# To be on the safe side, we can parse the SMILES as RDKit mol objects\n",
    "# then write out canonical smiles and check\n",
    "\n",
    "smis = df3['Smiles'].tolist()\n",
    "rdkit_can_smiles = []\n",
    "for smi in smis:\n",
    "    mol = Chem.MolFromSmiles(smi)       \n",
    "    rdkit_can_smiles.append(Chem.MolToSmiles(mol, canonical=True)) # default is true\n",
    "    \n",
    "set_rdkit_can_smiles = set(rdkit_can_smiles)\n",
    "len(set_rdkit_can_smiles) == len(rdkit_can_smiles)"
   ]
  },
  {
   "cell_type": "code",
   "execution_count": 11,
   "id": "f286d302-1072-42b4-9447-ac92695d4b51",
   "metadata": {},
   "outputs": [
    {
     "data": {
      "text/plain": [
       "True"
      ]
     },
     "execution_count": 11,
     "metadata": {},
     "output_type": "execute_result"
    }
   ],
   "source": [
    "# We'll use the original SMILES as unique dictionary keys, so we should verify that the\n",
    "# ChEMBL SMILES are unique strings too.\n",
    "set_smis = set(smis)\n",
    "len(set_smis) == len(smis)"
   ]
  },
  {
   "cell_type": "markdown",
   "id": "6629bd41-d88d-40c2-9786-1d29f94950da",
   "metadata": {},
   "source": [
    "## 4. Compile Node data"
   ]
  },
  {
   "cell_type": "code",
   "execution_count": 12,
   "id": "c9f139b5-de78-4cb2-97b5-1327fdcf1742",
   "metadata": {},
   "outputs": [],
   "source": [
    "# We will use pKi for coloring nodes.\n",
    "from math import log10\n",
    "\n",
    "# Ki values are in nM units\n",
    "# 1. convert to M\n",
    "df3.loc[:,\"Ki_M\"] = (df3.loc[:,\"Ki\"] * (10**-9))\n",
    "\n",
    "# 2. then compute -log10[Ki]\n",
    "def minuslog(x):\n",
    "    return -log10(x)\n",
    "\n",
    "df3.loc[:,\"pKi\"] = (df3.loc[:,\"Ki_M\"].apply(minuslog))"
   ]
  },
  {
   "cell_type": "code",
   "execution_count": 13,
   "id": "5f9bdc8c-a50e-42c5-b91d-b00039d9640a",
   "metadata": {},
   "outputs": [
    {
     "data": {
      "text/html": [
       "<div>\n",
       "<style scoped>\n",
       "    .dataframe tbody tr th:only-of-type {\n",
       "        vertical-align: middle;\n",
       "    }\n",
       "\n",
       "    .dataframe tbody tr th {\n",
       "        vertical-align: top;\n",
       "    }\n",
       "\n",
       "    .dataframe thead th {\n",
       "        text-align: right;\n",
       "    }\n",
       "</style>\n",
       "<table border=\"1\" class=\"dataframe\">\n",
       "  <thead>\n",
       "    <tr style=\"text-align: right;\">\n",
       "      <th></th>\n",
       "      <th>Molecule ChEMBL ID</th>\n",
       "      <th>Smiles</th>\n",
       "      <th>pKi</th>\n",
       "    </tr>\n",
       "  </thead>\n",
       "  <tbody>\n",
       "    <tr>\n",
       "      <th>0</th>\n",
       "      <td>CHEMBL103</td>\n",
       "      <td>CC(=O)[C@H]1CC[C@H]2[C@@H]3CCC4=CC(=O)CC[C@]4(...</td>\n",
       "      <td>7.515700</td>\n",
       "    </tr>\n",
       "    <tr>\n",
       "      <th>1</th>\n",
       "      <td>CHEMBL1089811</td>\n",
       "      <td>COc1ccc2c(c1)-c1ccc3c(c1[C@H](c1ccccc1)O2)C(C)...</td>\n",
       "      <td>7.744727</td>\n",
       "    </tr>\n",
       "    <tr>\n",
       "      <th>2</th>\n",
       "      <td>CHEMBL1089812</td>\n",
       "      <td>C#COc1ccc2c(c1OC)-c1ccc3c(c1[C@H](CC=C)O2)C(C)...</td>\n",
       "      <td>8.376751</td>\n",
       "    </tr>\n",
       "    <tr>\n",
       "      <th>3</th>\n",
       "      <td>CHEMBL1090477</td>\n",
       "      <td>CC#C[C@@]1(O)CC[C@@]2(Cc3ccccc3)c3ccc(C(=O)NCc...</td>\n",
       "      <td>8.698970</td>\n",
       "    </tr>\n",
       "    <tr>\n",
       "      <th>4</th>\n",
       "      <td>CHEMBL1090801</td>\n",
       "      <td>C=CC[C@@H]1Oc2ccc(OC#N)c(OC)c2-c2ccc3c(c21)C(C...</td>\n",
       "      <td>7.292430</td>\n",
       "    </tr>\n",
       "    <tr>\n",
       "      <th>...</th>\n",
       "      <td>...</td>\n",
       "      <td>...</td>\n",
       "      <td>...</td>\n",
       "    </tr>\n",
       "    <tr>\n",
       "      <th>399</th>\n",
       "      <td>CHEMBL8639</td>\n",
       "      <td>C=CCC1Oc2ccccc2-c2ccc3c(c21)C(C)=CC(C)(C)N3</td>\n",
       "      <td>6.051098</td>\n",
       "    </tr>\n",
       "    <tr>\n",
       "      <th>400</th>\n",
       "      <td>CHEMBL95644</td>\n",
       "      <td>COc1cccc2c1-c1ccc3c(c1C(c1cccc(C(F)(F)F)c1)O2)...</td>\n",
       "      <td>7.958607</td>\n",
       "    </tr>\n",
       "    <tr>\n",
       "      <th>401</th>\n",
       "      <td>CHEMBL97206</td>\n",
       "      <td>COc1cccc2c1-c1ccc3c(c1C(c1cccc(OCSC)c1)O2)C(C)...</td>\n",
       "      <td>8.397940</td>\n",
       "    </tr>\n",
       "    <tr>\n",
       "      <th>402</th>\n",
       "      <td>CHEMBL99046</td>\n",
       "      <td>COc1cccc2c1-c1ccc3c(c1C(c1ccccc1)O2)C(C)=CC(C)...</td>\n",
       "      <td>7.084776</td>\n",
       "    </tr>\n",
       "    <tr>\n",
       "      <th>403</th>\n",
       "      <td>CHEMBL99128</td>\n",
       "      <td>COc1ccc2c(c1)OC(c1ccccc1)c1c-2ccc2c1C(C)=CC(C)...</td>\n",
       "      <td>5.744727</td>\n",
       "    </tr>\n",
       "  </tbody>\n",
       "</table>\n",
       "<p>404 rows × 3 columns</p>\n",
       "</div>"
      ],
      "text/plain": [
       "    Molecule ChEMBL ID                                             Smiles  \\\n",
       "0            CHEMBL103  CC(=O)[C@H]1CC[C@H]2[C@@H]3CCC4=CC(=O)CC[C@]4(...   \n",
       "1        CHEMBL1089811  COc1ccc2c(c1)-c1ccc3c(c1[C@H](c1ccccc1)O2)C(C)...   \n",
       "2        CHEMBL1089812  C#COc1ccc2c(c1OC)-c1ccc3c(c1[C@H](CC=C)O2)C(C)...   \n",
       "3        CHEMBL1090477  CC#C[C@@]1(O)CC[C@@]2(Cc3ccccc3)c3ccc(C(=O)NCc...   \n",
       "4        CHEMBL1090801  C=CC[C@@H]1Oc2ccc(OC#N)c(OC)c2-c2ccc3c(c21)C(C...   \n",
       "..                 ...                                                ...   \n",
       "399         CHEMBL8639        C=CCC1Oc2ccccc2-c2ccc3c(c21)C(C)=CC(C)(C)N3   \n",
       "400        CHEMBL95644  COc1cccc2c1-c1ccc3c(c1C(c1cccc(C(F)(F)F)c1)O2)...   \n",
       "401        CHEMBL97206  COc1cccc2c1-c1ccc3c(c1C(c1cccc(OCSC)c1)O2)C(C)...   \n",
       "402        CHEMBL99046  COc1cccc2c1-c1ccc3c(c1C(c1ccccc1)O2)C(C)=CC(C)...   \n",
       "403        CHEMBL99128  COc1ccc2c(c1)OC(c1ccccc1)c1c-2ccc2c1C(C)=CC(C)...   \n",
       "\n",
       "          pKi  \n",
       "0    7.515700  \n",
       "1    7.744727  \n",
       "2    8.376751  \n",
       "3    8.698970  \n",
       "4    7.292430  \n",
       "..        ...  \n",
       "399  6.051098  \n",
       "400  7.958607  \n",
       "401  8.397940  \n",
       "402  7.084776  \n",
       "403  5.744727  \n",
       "\n",
       "[404 rows x 3 columns]"
      ]
     },
     "execution_count": 13,
     "metadata": {},
     "output_type": "execute_result"
    }
   ],
   "source": [
    "# drop Ki and Ki_M columns (no longer needed)\n",
    "df3.drop([\"Ki\",\"Ki_M\"],axis=1,inplace=True)\n",
    "df3"
   ]
  },
  {
   "cell_type": "code",
   "execution_count": 14,
   "id": "0bfaface-ca46-4567-b931-6e19e62b8ab6",
   "metadata": {},
   "outputs": [
    {
     "name": "stdout",
     "output_type": "stream",
     "text": [
      "10.096910013008056\n",
      "4.0\n"
     ]
    }
   ],
   "source": [
    "# get the max/min Ki values, which will be used for a color bar later\n",
    "print(df3.pKi.max())\n",
    "print(df3.pKi.min())"
   ]
  },
  {
   "cell_type": "code",
   "execution_count": 15,
   "id": "e3e52811-d33d-4989-a9fb-d9dd520c246d",
   "metadata": {},
   "outputs": [],
   "source": [
    "# set the dataframe index as Smiles (we already verified they are all unique from eachother)\n",
    "df4 = df3.set_index('Smiles')"
   ]
  },
  {
   "cell_type": "code",
   "execution_count": 16,
   "id": "6375a232-7cce-4f60-a509-dbbbfa12c09d",
   "metadata": {},
   "outputs": [
    {
     "name": "stdout",
     "output_type": "stream",
     "text": [
      "                                                   Molecule ChEMBL ID       pKi\n",
      "Smiles                                                                         \n",
      "CC(=O)[C@H]1CC[C@H]2[C@@H]3CCC4=CC(=O)CC[C@]4(C...          CHEMBL103  7.515700\n",
      "COc1ccc2c(c1)-c1ccc3c(c1[C@H](c1ccccc1)O2)C(C)=...      CHEMBL1089811  7.744727\n",
      "C#COc1ccc2c(c1OC)-c1ccc3c(c1[C@H](CC=C)O2)C(C)=...      CHEMBL1089812  8.376751\n",
      "CC#C[C@@]1(O)CC[C@@]2(Cc3ccccc3)c3ccc(C(=O)NCc4...      CHEMBL1090477  8.698970\n",
      "C=CC[C@@H]1Oc2ccc(OC#N)c(OC)c2-c2ccc3c(c21)C(C)...      CHEMBL1090801  7.292430\n",
      "C#Cc1cccc2c1-c1ccc3c(c1[C@H](CC=C)O2)C(C)=CC(C)...      CHEMBL1090805  8.161151\n",
      "C[C@]12C[C@H](O)[C@H]3C(CCC4=CC(=O)CC[C@@]43C)[...      CHEMBL1092578  7.522879\n",
      "C=C1C(C)CCC(C)(C)[C@@H]1Cc1cc(OC)c(Br)cc1OC(C)=O        CHEMBL1093140  5.386264\n",
      "C=C1CCC(Br)C(C)(C)[C@H]1Cc1cc(OC)c(Br)cc1O              CHEMBL1093625  5.608183\n",
      "C=C1CCC(Br)C(C)(C)[C@@H]1Cc1cc(OC)c(Br)cc1O             CHEMBL1093779  5.493495\n"
     ]
    }
   ],
   "source": [
    "pd.set_option(\"expand_frame_repr\", False)\n",
    "print(df4.head(10)) # view first 10"
   ]
  },
  {
   "cell_type": "code",
   "execution_count": 17,
   "id": "db1d4d6f-1398-4575-9637-1d989fde9f79",
   "metadata": {},
   "outputs": [],
   "source": [
    "# save to a dictionary\n",
    "node_data = df4.to_dict('index')"
   ]
  },
  {
   "cell_type": "code",
   "execution_count": 18,
   "id": "f116e21d-6b70-4b1d-8fe7-fb289cf823b9",
   "metadata": {},
   "outputs": [
    {
     "data": {
      "text/plain": [
       "'CC(=O)[C@H]1CC[C@H]2[C@@H]3CCC4=CC(=O)CC[C@]4(C)[C@H]3CC[C@]12C'"
      ]
     },
     "execution_count": 18,
     "metadata": {},
     "output_type": "execute_result"
    }
   ],
   "source": [
    "# SMILES are the keys\n",
    "list(node_data.keys())[0]"
   ]
  },
  {
   "cell_type": "code",
   "execution_count": 19,
   "id": "13495951-b95c-40af-9076-b184f42b6a2d",
   "metadata": {},
   "outputs": [
    {
     "data": {
      "text/plain": [
       "{'Molecule ChEMBL ID': 'CHEMBL103', 'pKi': 7.515700160653214}"
      ]
     },
     "execution_count": 19,
     "metadata": {},
     "output_type": "execute_result"
    }
   ],
   "source": [
    "# ChEMBL ID and pKi are the associated values\n",
    "list(node_data.values())[0]"
   ]
  },
  {
   "cell_type": "code",
   "execution_count": 20,
   "id": "2243a157-d21f-4c02-ac8d-514c164334ee",
   "metadata": {},
   "outputs": [],
   "source": [
    "# print(node_data)"
   ]
  },
  {
   "cell_type": "markdown",
   "id": "879bca9c-acc9-467b-ba85-8e6bbe4fc0f2",
   "metadata": {},
   "source": [
    "## 5. Compute and Compile Edge Data"
   ]
  },
  {
   "cell_type": "code",
   "execution_count": 21,
   "id": "541bc5e7-51e9-4d29-aa15-1024d56ecb35",
   "metadata": {},
   "outputs": [
    {
     "data": {
      "text/plain": [
       "81406"
      ]
     },
     "execution_count": 21,
     "metadata": {},
     "output_type": "execute_result"
    }
   ],
   "source": [
    "# We first need to create subset pairs of the SMILES\n",
    "smis = [] # using ChEMBL provided SMILES\n",
    "for key,value in node_data.items():\n",
    "    smis.append(key)\n",
    "\n",
    "from itertools import combinations\n",
    "smis_subsets = list(combinations(smis,2))\n",
    "len(smis_subsets)"
   ]
  },
  {
   "cell_type": "code",
   "execution_count": 22,
   "id": "3a821fce-4948-4174-acff-782e7bf9a570",
   "metadata": {},
   "outputs": [
    {
     "data": {
      "text/plain": [
       "[('CC(=O)[C@H]1CC[C@H]2[C@@H]3CCC4=CC(=O)CC[C@]4(C)[C@H]3CC[C@]12C',\n",
       "  'COc1ccc2c(c1)-c1ccc3c(c1[C@H](c1ccccc1)O2)C(C)=CC(C)(C)N3'),\n",
       " ('CC(=O)[C@H]1CC[C@H]2[C@@H]3CCC4=CC(=O)CC[C@]4(C)[C@H]3CC[C@]12C',\n",
       "  'C#COc1ccc2c(c1OC)-c1ccc3c(c1[C@H](CC=C)O2)C(C)=CC(C)(C)N3'),\n",
       " ('CC(=O)[C@H]1CC[C@H]2[C@@H]3CCC4=CC(=O)CC[C@]4(C)[C@H]3CC[C@]12C',\n",
       "  'CC#C[C@@]1(O)CC[C@@]2(Cc3ccccc3)c3ccc(C(=O)NCc4ccncc4)cc3CC[C@@H]2C1'),\n",
       " ('CC(=O)[C@H]1CC[C@H]2[C@@H]3CCC4=CC(=O)CC[C@]4(C)[C@H]3CC[C@]12C',\n",
       "  'C=CC[C@@H]1Oc2ccc(OC#N)c(OC)c2-c2ccc3c(c21)C(C)=CC(C)(C)N3'),\n",
       " ('CC(=O)[C@H]1CC[C@H]2[C@@H]3CCC4=CC(=O)CC[C@]4(C)[C@H]3CC[C@]12C',\n",
       "  'C#Cc1cccc2c1-c1ccc3c(c1[C@H](CC=C)O2)C(C)=CC(C)(C)N3')]"
      ]
     },
     "execution_count": 22,
     "metadata": {},
     "output_type": "execute_result"
    }
   ],
   "source": [
    "# View first 5\n",
    "smis_subsets[0:5]"
   ]
  },
  {
   "cell_type": "code",
   "execution_count": 23,
   "id": "8f2b1bc5-db14-4c25-84e1-10f22f3c71a5",
   "metadata": {},
   "outputs": [
    {
     "data": {
      "text/plain": [
       "81406"
      ]
     },
     "execution_count": 23,
     "metadata": {},
     "output_type": "execute_result"
    }
   ],
   "source": [
    "# create a dictionary, subsets\n",
    "subsets = {}\n",
    "for i, (smi1,smi2) in enumerate(smis_subsets):\n",
    "    field = {}\n",
    "    field[\"smi1\"] = smi1\n",
    "    subsets[i] = field\n",
    "    \n",
    "    field[\"smi2\"] = smi2\n",
    "    subsets[i] = field\n",
    "len(subsets)"
   ]
  },
  {
   "cell_type": "code",
   "execution_count": 24,
   "id": "5506611f-2204-453e-a8d7-e925c04b5c8a",
   "metadata": {},
   "outputs": [
    {
     "data": {
      "text/plain": [
       "0"
      ]
     },
     "execution_count": 24,
     "metadata": {},
     "output_type": "execute_result"
    }
   ],
   "source": [
    "# get first key\n",
    "list(subsets)[0]"
   ]
  },
  {
   "cell_type": "code",
   "execution_count": 25,
   "id": "7bec88b0-7bb5-475d-9803-dbdf960d8445",
   "metadata": {},
   "outputs": [
    {
     "data": {
      "text/plain": [
       "{'smi1': 'CC(=O)[C@H]1CC[C@H]2[C@@H]3CCC4=CC(=O)CC[C@]4(C)[C@H]3CC[C@]12C',\n",
       " 'smi2': 'COc1ccc2c(c1)-c1ccc3c(c1[C@H](c1ccccc1)O2)C(C)=CC(C)(C)N3'}"
      ]
     },
     "execution_count": 25,
     "metadata": {},
     "output_type": "execute_result"
    }
   ],
   "source": [
    "# get first value\n",
    "list(subsets.values())[0]"
   ]
  },
  {
   "cell_type": "code",
   "execution_count": 26,
   "id": "a7902218-489d-41e5-a10b-aec0bf9d6a1a",
   "metadata": {},
   "outputs": [
    {
     "data": {
      "text/plain": [
       "'CC(=O)[C@H]1CC[C@H]2[C@@H]3CCC4=CC(=O)CC[C@]4(C)[C@H]3CC[C@]12C'"
      ]
     },
     "execution_count": 26,
     "metadata": {},
     "output_type": "execute_result"
    }
   ],
   "source": [
    "# get smi1\n",
    "list(subsets.values())[0]['smi1']"
   ]
  },
  {
   "cell_type": "code",
   "execution_count": 27,
   "id": "ba2d098a-d803-46f2-9849-f305aaf9872e",
   "metadata": {},
   "outputs": [],
   "source": [
    "# add mol objects to our subsets dictionary\n",
    "for key,value in subsets.items():\n",
    "    subsets[key].update({\"mol1\": Chem.MolFromSmiles(value['smi1'])})\n",
    "    subsets[key].update({\"mol2\": Chem.MolFromSmiles(value['smi2'])})"
   ]
  },
  {
   "cell_type": "code",
   "execution_count": 28,
   "id": "c9074cc2-78e2-42b4-8ed8-30684f124341",
   "metadata": {},
   "outputs": [
    {
     "data": {
      "text/plain": [
       "0"
      ]
     },
     "execution_count": 28,
     "metadata": {},
     "output_type": "execute_result"
    }
   ],
   "source": [
    "list(subsets.keys())[0]"
   ]
  },
  {
   "cell_type": "code",
   "execution_count": 29,
   "id": "c73dc0cb-fd5c-4922-836f-179903ca07ce",
   "metadata": {},
   "outputs": [
    {
     "data": {
      "text/plain": [
       "{'smi1': 'CC(=O)[C@H]1CC[C@H]2[C@@H]3CCC4=CC(=O)CC[C@]4(C)[C@H]3CC[C@]12C',\n",
       " 'smi2': 'COc1ccc2c(c1)-c1ccc3c(c1[C@H](c1ccccc1)O2)C(C)=CC(C)(C)N3',\n",
       " 'mol1': <rdkit.Chem.rdchem.Mol at 0x7f7ad186ebc0>,\n",
       " 'mol2': <rdkit.Chem.rdchem.Mol at 0x7f7ad186ee60>}"
      ]
     },
     "execution_count": 29,
     "metadata": {},
     "output_type": "execute_result"
    }
   ],
   "source": [
    "list(subsets.values())[0]"
   ]
  },
  {
   "cell_type": "markdown",
   "id": "dac8a0db-3345-40d1-982a-33853c7e7c1d",
   "metadata": {},
   "source": [
    "### Compute Tanimoto Similarity (RDKit fingerprint based)"
   ]
  },
  {
   "cell_type": "code",
   "execution_count": 30,
   "id": "67f35c55-999d-4940-8a7a-2d41048d1a07",
   "metadata": {},
   "outputs": [],
   "source": [
    "# compute and add Tanimoto Similarity using default RDKit fingerprints\n",
    "for key,value in subsets.items():\n",
    "    fp1 = Chem.RDKFingerprint(value['mol1'])\n",
    "    fp2 = Chem.RDKFingerprint(value['mol2'])\n",
    "    tan_sim = round(DataStructs.TanimotoSimilarity(fp1,fp2), 3)\n",
    "    subsets[key].update({\"tan_similarity\": tan_sim})"
   ]
  },
  {
   "cell_type": "code",
   "execution_count": 31,
   "id": "6ccd0d34-50d8-4920-b841-16eda7925bf3",
   "metadata": {},
   "outputs": [
    {
     "data": {
      "text/plain": [
       "{'smi1': 'CC(=O)[C@H]1CC[C@H]2[C@@H]3CCC4=CC(=O)CC[C@]4(C)[C@H]3CC[C@]12C',\n",
       " 'smi2': 'COc1ccc2c(c1)-c1ccc3c(c1[C@H](c1ccccc1)O2)C(C)=CC(C)(C)N3',\n",
       " 'mol1': <rdkit.Chem.rdchem.Mol at 0x7f6b96c0a6e0>,\n",
       " 'mol2': <rdkit.Chem.rdchem.Mol at 0x7f6b96c0af80>,\n",
       " 'tan_similarity': 0.155}"
      ]
     },
     "execution_count": 31,
     "metadata": {},
     "output_type": "execute_result"
    }
   ],
   "source": [
    "list(subsets.values())[0]"
   ]
  },
  {
   "cell_type": "markdown",
   "id": "2eb8999f-c198-4937-9d15-d4f0a69b9155",
   "metadata": {},
   "source": [
    "### Compute MCS-based Tanimoto Coefficient (single processor)"
   ]
  },
  {
   "cell_type": "code",
   "execution_count": null,
   "id": "f63e9aca-58e9-4838-831d-6aae4797f4fa",
   "metadata": {
    "scrolled": true,
    "tags": []
   },
   "outputs": [],
   "source": [
    "# Add maximum common substructure (MCS)-based Tanimoto Coefficient\n",
    "# See Vogt, M. et al. J Comput Aided Mol Des 2016, 30 (3), 191–208. \n",
    "# https://doi.org/10.1007/s10822-016-9906-3.\n",
    "\n",
    "############\n",
    "############\n",
    "\n",
    "# Compute and add MCS-based similarity\n",
    "# This may take a very long time...\n",
    "\n",
    "#############\n",
    "#############\n",
    "\n",
    "#def tc_mcs(mol1,mol2):\n",
    "#    # get maximum common substructure instance\n",
    "#    mcs = rdFMCS.FindMCS([mol1,mol2],timeout=10) # adding a 10 second timeout for now\n",
    "    \n",
    "#    # get number of common bonds\n",
    "#    mcs_bonds = mcs.numBonds\n",
    "    \n",
    "#    # get number of bonds for each\n",
    "#    # default is only heavy atom bonds\n",
    "#    mol1_bonds = mol1.GetNumBonds()\n",
    "#    mol2_bonds = mol2.GetNumBonds()\n",
    "    \n",
    "#    # compute MCS-based Tanimoto  \n",
    "#    tan_mcs = mcs_bonds / (mol1_bonds + mol2_bonds - mcs_bonds)\n",
    "#    return tan_mcs\n",
    "\n",
    "\n",
    "# loop through subsets and compute tc_mcs\n",
    "\n",
    "#for key,value in subsets.items():\n",
    "#    tan_mcs_value = round(tc_mcs(value['mol1'], value['mol2']), 3)\n",
    "#    print(key) # to watch progress\n",
    "#    subsets[key].update({\"tan_mcs\": tan_mcs_value})"
   ]
  },
  {
   "cell_type": "markdown",
   "id": "ed144778-3aa9-4794-bead-0e111c884d1f",
   "metadata": {},
   "source": [
    "### Compute MCS-based Tanimoto Coefficient (multiprocessing)"
   ]
  },
  {
   "cell_type": "code",
   "execution_count": 35,
   "id": "a081d570-4516-47a6-93da-0f98e0639686",
   "metadata": {},
   "outputs": [
    {
     "name": "stdout",
     "output_type": "stream",
     "text": [
      "16\n"
     ]
    }
   ],
   "source": [
    "# get number of processors\n",
    "import multiprocessing\n",
    "print(multiprocessing.cpu_count())"
   ]
  },
  {
   "cell_type": "code",
   "execution_count": 37,
   "id": "e09d4377-d12f-4fd0-9a24-8f0e8cf7a97f",
   "metadata": {},
   "outputs": [
    {
     "data": {
      "text/plain": [
       "14"
      ]
     },
     "execution_count": 37,
     "metadata": {},
     "output_type": "execute_result"
    }
   ],
   "source": [
    "# From the Python docs, this below is number of usable CPUs (works on Unix/Linux)\n",
    "# https://docs.python.org/3/library/multiprocessing.html\n",
    "# we subtracted 2 from total number, so that we can still easily use computer for other tasks\n",
    "import os\n",
    "num_cpus = len(os.sched_getaffinity(0)) - 2\n",
    "num_cpus"
   ]
  },
  {
   "cell_type": "code",
   "execution_count": 34,
   "id": "f460e9a2-8aa0-4a15-b272-47cee0555b8d",
   "metadata": {},
   "outputs": [],
   "source": [
    "# Add maximum common substructure (MCS)-based Tanimoto Coefficient\n",
    "# See Vogt, M. et al. J Comput Aided Mol Des 2016, 30 (3), 191–208. \n",
    "# https://doi.org/10.1007/s10822-016-9906-3.\n",
    "\n",
    "############\n",
    "############\n",
    "\n",
    "# Compute and add MCS-based similarity\n",
    "\n",
    "# Here are benchmark times with the 10 second timeout in FindMCS and the 81,000 compound gluco pairs:\n",
    "    # Intel Core i9-9980HK (2.4 GHz x 16) Ubuntu laptop using 14 of the 16 CPUs: ~ 1 hour\n",
    "    # Intel Core i5-2520M (2.5 GHz x 4) Ubuntu laptop using 3 of the 4 cores: ~ 4 hours\n",
    "\n",
    "#############\n",
    "#############\n",
    "\n",
    "def tc_mcs(mol1,mol2,key):\n",
    "    # get maximum common substructure instance\n",
    "    mcs = rdFMCS.FindMCS([mol1,mol2],timeout=10) # adding a 10 second timeout\n",
    "    \n",
    "    # get number of common bonds\n",
    "    mcs_bonds = mcs.numBonds\n",
    "    \n",
    "    # get number of bonds for each\n",
    "    # default is only heavy atom bonds\n",
    "    mol1_bonds = mol1.GetNumBonds()\n",
    "    mol2_bonds = mol2.GetNumBonds()\n",
    "    \n",
    "    # compute MCS-based Tanimoto\n",
    "    tan_mcs = mcs_bonds / (mol1_bonds + mol2_bonds - mcs_bonds)\n",
    "    return key, tan_mcs\n",
    "\n",
    "# create a list of mol1, mol2, and their dictionary key as tuples\n",
    "mol_tuples = []\n",
    "for key, value in subsets.items():\n",
    "    mol_tuples.append((value['mol1'],value['mol2'], key))\n",
    "\n",
    "# run multiprocessing on the tc_mcs function\n",
    "from multiprocessing import Pool\n",
    "\n",
    "if __name__ == '__main__':\n",
    "    with Pool(num_cpus) as p: # In our case, num_cpus = 14\n",
    "        star_map = p.starmap(tc_mcs, mol_tuples)\n",
    "    for key, tan_mcs in star_map:\n",
    "        subsets[key].update({\"tan_mcs\": round(tan_mcs,3)})"
   ]
  },
  {
   "cell_type": "code",
   "execution_count": 57,
   "id": "9b28221d-f1ee-4bbb-ba78-9bdf0efa43c5",
   "metadata": {},
   "outputs": [
    {
     "data": {
      "text/plain": [
       "[{'smi1': 'CC(=O)[C@H]1CC[C@H]2[C@@H]3CCC4=CC(=O)CC[C@]4(C)[C@H]3CC[C@]12C',\n",
       "  'smi2': 'COc1ccc2c(c1)-c1ccc3c(c1[C@H](c1ccccc1)O2)C(C)=CC(C)(C)N3',\n",
       "  'mol1': <rdkit.Chem.rdchem.Mol at 0x7f6b96c0a6e0>,\n",
       "  'mol2': <rdkit.Chem.rdchem.Mol at 0x7f6b96c0af80>,\n",
       "  'tan_similarity': 0.155,\n",
       "  'tan_mcs': 0.475},\n",
       " {'smi1': 'CC(=O)[C@H]1CC[C@H]2[C@@H]3CCC4=CC(=O)CC[C@]4(C)[C@H]3CC[C@]12C',\n",
       "  'smi2': 'C#COc1ccc2c(c1OC)-c1ccc3c(c1[C@H](CC=C)O2)C(C)=CC(C)(C)N3',\n",
       "  'mol1': <rdkit.Chem.rdchem.Mol at 0x7f6b96c0a9e0>,\n",
       "  'mol2': <rdkit.Chem.rdchem.Mol at 0x7f6b96c0a8c0>,\n",
       "  'tan_similarity': 0.16,\n",
       "  'tan_mcs': 0.45},\n",
       " {'smi1': 'CC(=O)[C@H]1CC[C@H]2[C@@H]3CCC4=CC(=O)CC[C@]4(C)[C@H]3CC[C@]12C',\n",
       "  'smi2': 'CC#C[C@@]1(O)CC[C@@]2(Cc3ccccc3)c3ccc(C(=O)NCc4ccncc4)cc3CC[C@@H]2C1',\n",
       "  'mol1': <rdkit.Chem.rdchem.Mol at 0x7f6b96c0aaa0>,\n",
       "  'mol2': <rdkit.Chem.rdchem.Mol at 0x7f6b96c0ab00>,\n",
       "  'tan_similarity': 0.175,\n",
       "  'tan_mcs': 0.444},\n",
       " {'smi1': 'CC(=O)[C@H]1CC[C@H]2[C@@H]3CCC4=CC(=O)CC[C@]4(C)[C@H]3CC[C@]12C',\n",
       "  'smi2': 'C=CC[C@@H]1Oc2ccc(OC#N)c(OC)c2-c2ccc3c(c21)C(C)=CC(C)(C)N3',\n",
       "  'mol1': <rdkit.Chem.rdchem.Mol at 0x7f6b96c0ab60>,\n",
       "  'mol2': <rdkit.Chem.rdchem.Mol at 0x7f6b96c0abc0>,\n",
       "  'tan_similarity': 0.16,\n",
       "  'tan_mcs': 0.45},\n",
       " {'smi1': 'CC(=O)[C@H]1CC[C@H]2[C@@H]3CCC4=CC(=O)CC[C@]4(C)[C@H]3CC[C@]12C',\n",
       "  'smi2': 'C#Cc1cccc2c1-c1ccc3c(c1[C@H](CC=C)O2)C(C)=CC(C)(C)N3',\n",
       "  'mol1': <rdkit.Chem.rdchem.Mol at 0x7f6b96c0ac20>,\n",
       "  'mol2': <rdkit.Chem.rdchem.Mol at 0x7f6b96c0ace0>,\n",
       "  'tan_similarity': 0.16,\n",
       "  'tan_mcs': 0.528}]"
      ]
     },
     "execution_count": 57,
     "metadata": {},
     "output_type": "execute_result"
    }
   ],
   "source": [
    "list(subsets.values())[0:5]"
   ]
  },
  {
   "cell_type": "code",
   "execution_count": 58,
   "id": "dc875851-69a6-46af-b117-c67da507b589",
   "metadata": {},
   "outputs": [
    {
     "data": {
      "text/plain": [
       "[0, 1, 2, 3, 4]"
      ]
     },
     "execution_count": 58,
     "metadata": {},
     "output_type": "execute_result"
    }
   ],
   "source": [
    "# Keys are integers\n",
    "list(subsets.keys())[0:5]"
   ]
  },
  {
   "cell_type": "code",
   "execution_count": 59,
   "id": "6bfa1963-130d-4d94-b0c8-db99b712f017",
   "metadata": {},
   "outputs": [
    {
     "data": {
      "text/plain": [
       "[(0, 0.475),\n",
       " (1, 0.45),\n",
       " (2, 0.4444444444444444),\n",
       " (3, 0.45),\n",
       " (4, 0.5277777777777778)]"
      ]
     },
     "execution_count": 59,
     "metadata": {},
     "output_type": "execute_result"
    }
   ],
   "source": [
    "# Here is what the star_map variable looks like\n",
    "star_map[0:5]"
   ]
  },
  {
   "cell_type": "markdown",
   "id": "35164e55-347a-4141-9a0d-8ccf29e562fe",
   "metadata": {},
   "source": [
    "# 6. Save Data"
   ]
  },
  {
   "cell_type": "markdown",
   "id": "5d4ff35b-02f9-42a1-8298-72b1fd780a61",
   "metadata": {},
   "source": [
    "Save the data, so you don't have to re-compute the tanimoto and MCS similarity again."
   ]
  },
  {
   "cell_type": "code",
   "execution_count": 37,
   "id": "c7036baf-e9be-4e3a-b4be-f966022497e4",
   "metadata": {},
   "outputs": [],
   "source": [
    "# Save the subsets data as a pickle\n",
    "import pickle\n",
    "with open('subsets.pickle', 'wb') as outfile:\n",
    "    pickle.dump(subsets, outfile, pickle.HIGHEST_PROTOCOL)"
   ]
  },
  {
   "cell_type": "code",
   "execution_count": 38,
   "id": "a362b34f-5f39-46d1-bfc0-3cf78a367798",
   "metadata": {},
   "outputs": [],
   "source": [
    "# Save the node data\n",
    "with open('node_data.pickle', 'wb') as outfile:\n",
    "    pickle.dump(node_data, outfile, pickle.HIGHEST_PROTOCOL)"
   ]
  },
  {
   "cell_type": "code",
   "execution_count": null,
   "id": "d340e98c-2156-4ae6-a8f8-a6f5ab6fe434",
   "metadata": {},
   "outputs": [],
   "source": []
  }
 ],
 "metadata": {
  "kernelspec": {
   "display_name": "Python 3 (ipykernel)",
   "language": "python",
   "name": "python3"
  },
  "language_info": {
   "codemirror_mode": {
    "name": "ipython",
    "version": 3
   },
   "file_extension": ".py",
   "mimetype": "text/x-python",
   "name": "python",
   "nbconvert_exporter": "python",
   "pygments_lexer": "ipython3",
   "version": "3.10.6"
  }
 },
 "nbformat": 4,
 "nbformat_minor": 5
}
